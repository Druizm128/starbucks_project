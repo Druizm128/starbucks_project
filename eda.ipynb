{
 "cells": [
  {
   "cell_type": "code",
   "execution_count": 13,
   "id": "gorgeous-conditions",
   "metadata": {},
   "outputs": [],
   "source": [
    "import pandas as pd\n",
    "import numpy as np\n",
    "import math\n",
    "import json\n",
    "%matplotlib inline\n",
    "\n",
    "# read in the json files\n",
    "portfolio = pd.read_json('data/portfolio.json', orient='records', lines=True)\n",
    "profile = pd.read_json('data/profile.json', orient='records', lines=True)\n",
    "transcript = pd.read_json('data/transcript.json', orient='records', lines=True)"
   ]
  },
  {
   "cell_type": "code",
   "execution_count": 14,
   "id": "sunset-wholesale",
   "metadata": {},
   "outputs": [
    {
     "data": {
      "text/html": [
       "<div>\n",
       "<style scoped>\n",
       "    .dataframe tbody tr th:only-of-type {\n",
       "        vertical-align: middle;\n",
       "    }\n",
       "\n",
       "    .dataframe tbody tr th {\n",
       "        vertical-align: top;\n",
       "    }\n",
       "\n",
       "    .dataframe thead th {\n",
       "        text-align: right;\n",
       "    }\n",
       "</style>\n",
       "<table border=\"1\" class=\"dataframe\">\n",
       "  <thead>\n",
       "    <tr style=\"text-align: right;\">\n",
       "      <th></th>\n",
       "      <th>reward</th>\n",
       "      <th>channels</th>\n",
       "      <th>difficulty</th>\n",
       "      <th>duration</th>\n",
       "      <th>offer_type</th>\n",
       "      <th>id</th>\n",
       "    </tr>\n",
       "  </thead>\n",
       "  <tbody>\n",
       "    <tr>\n",
       "      <th>0</th>\n",
       "      <td>10</td>\n",
       "      <td>[email, mobile, social]</td>\n",
       "      <td>10</td>\n",
       "      <td>7</td>\n",
       "      <td>bogo</td>\n",
       "      <td>ae264e3637204a6fb9bb56bc8210ddfd</td>\n",
       "    </tr>\n",
       "    <tr>\n",
       "      <th>1</th>\n",
       "      <td>10</td>\n",
       "      <td>[web, email, mobile, social]</td>\n",
       "      <td>10</td>\n",
       "      <td>5</td>\n",
       "      <td>bogo</td>\n",
       "      <td>4d5c57ea9a6940dd891ad53e9dbe8da0</td>\n",
       "    </tr>\n",
       "    <tr>\n",
       "      <th>2</th>\n",
       "      <td>0</td>\n",
       "      <td>[web, email, mobile]</td>\n",
       "      <td>0</td>\n",
       "      <td>4</td>\n",
       "      <td>informational</td>\n",
       "      <td>3f207df678b143eea3cee63160fa8bed</td>\n",
       "    </tr>\n",
       "    <tr>\n",
       "      <th>3</th>\n",
       "      <td>5</td>\n",
       "      <td>[web, email, mobile]</td>\n",
       "      <td>5</td>\n",
       "      <td>7</td>\n",
       "      <td>bogo</td>\n",
       "      <td>9b98b8c7a33c4b65b9aebfe6a799e6d9</td>\n",
       "    </tr>\n",
       "    <tr>\n",
       "      <th>4</th>\n",
       "      <td>5</td>\n",
       "      <td>[web, email]</td>\n",
       "      <td>20</td>\n",
       "      <td>10</td>\n",
       "      <td>discount</td>\n",
       "      <td>0b1e1539f2cc45b7b9fa7c272da2e1d7</td>\n",
       "    </tr>\n",
       "    <tr>\n",
       "      <th>5</th>\n",
       "      <td>3</td>\n",
       "      <td>[web, email, mobile, social]</td>\n",
       "      <td>7</td>\n",
       "      <td>7</td>\n",
       "      <td>discount</td>\n",
       "      <td>2298d6c36e964ae4a3e7e9706d1fb8c2</td>\n",
       "    </tr>\n",
       "    <tr>\n",
       "      <th>6</th>\n",
       "      <td>2</td>\n",
       "      <td>[web, email, mobile, social]</td>\n",
       "      <td>10</td>\n",
       "      <td>10</td>\n",
       "      <td>discount</td>\n",
       "      <td>fafdcd668e3743c1bb461111dcafc2a4</td>\n",
       "    </tr>\n",
       "    <tr>\n",
       "      <th>7</th>\n",
       "      <td>0</td>\n",
       "      <td>[email, mobile, social]</td>\n",
       "      <td>0</td>\n",
       "      <td>3</td>\n",
       "      <td>informational</td>\n",
       "      <td>5a8bc65990b245e5a138643cd4eb9837</td>\n",
       "    </tr>\n",
       "    <tr>\n",
       "      <th>8</th>\n",
       "      <td>5</td>\n",
       "      <td>[web, email, mobile, social]</td>\n",
       "      <td>5</td>\n",
       "      <td>5</td>\n",
       "      <td>bogo</td>\n",
       "      <td>f19421c1d4aa40978ebb69ca19b0e20d</td>\n",
       "    </tr>\n",
       "    <tr>\n",
       "      <th>9</th>\n",
       "      <td>2</td>\n",
       "      <td>[web, email, mobile]</td>\n",
       "      <td>10</td>\n",
       "      <td>7</td>\n",
       "      <td>discount</td>\n",
       "      <td>2906b810c7d4411798c6938adc9daaa5</td>\n",
       "    </tr>\n",
       "  </tbody>\n",
       "</table>\n",
       "</div>"
      ],
      "text/plain": [
       "   reward                      channels  difficulty  duration     offer_type  \\\n",
       "0      10       [email, mobile, social]          10         7           bogo   \n",
       "1      10  [web, email, mobile, social]          10         5           bogo   \n",
       "2       0          [web, email, mobile]           0         4  informational   \n",
       "3       5          [web, email, mobile]           5         7           bogo   \n",
       "4       5                  [web, email]          20        10       discount   \n",
       "5       3  [web, email, mobile, social]           7         7       discount   \n",
       "6       2  [web, email, mobile, social]          10        10       discount   \n",
       "7       0       [email, mobile, social]           0         3  informational   \n",
       "8       5  [web, email, mobile, social]           5         5           bogo   \n",
       "9       2          [web, email, mobile]          10         7       discount   \n",
       "\n",
       "                                 id  \n",
       "0  ae264e3637204a6fb9bb56bc8210ddfd  \n",
       "1  4d5c57ea9a6940dd891ad53e9dbe8da0  \n",
       "2  3f207df678b143eea3cee63160fa8bed  \n",
       "3  9b98b8c7a33c4b65b9aebfe6a799e6d9  \n",
       "4  0b1e1539f2cc45b7b9fa7c272da2e1d7  \n",
       "5  2298d6c36e964ae4a3e7e9706d1fb8c2  \n",
       "6  fafdcd668e3743c1bb461111dcafc2a4  \n",
       "7  5a8bc65990b245e5a138643cd4eb9837  \n",
       "8  f19421c1d4aa40978ebb69ca19b0e20d  \n",
       "9  2906b810c7d4411798c6938adc9daaa5  "
      ]
     },
     "execution_count": 14,
     "metadata": {},
     "output_type": "execute_result"
    }
   ],
   "source": [
    "portfolio"
   ]
  },
  {
   "cell_type": "markdown",
   "id": "alternate-carry",
   "metadata": {},
   "source": [
    "## Portfolio\n",
    "\n",
    "* They only have 10 promotions.\n",
    "* The rewards are 0, 2, 3, 5 and 10 USD off?\n",
    "* To complete an offer you have to spend from 0 up to 20 USD.\n",
    "* An offer can last 3, 4 ,5 ,7 or 10 days.\n",
    "* Offers might be dicsounts and bogo or informational"
   ]
  },
  {
   "cell_type": "code",
   "execution_count": 15,
   "id": "controlled-depression",
   "metadata": {},
   "outputs": [
    {
     "data": {
      "text/plain": [
       "(10, 6)"
      ]
     },
     "execution_count": 15,
     "metadata": {},
     "output_type": "execute_result"
    }
   ],
   "source": [
    "portfolio.shape"
   ]
  },
  {
   "cell_type": "code",
   "execution_count": 16,
   "id": "increased-roberts",
   "metadata": {},
   "outputs": [
    {
     "data": {
      "text/plain": [
       "array([ 0,  2,  3,  5, 10])"
      ]
     },
     "execution_count": 16,
     "metadata": {},
     "output_type": "execute_result"
    }
   ],
   "source": [
    "\n",
    "np.sort( portfolio.reward.unique() )\n"
   ]
  },
  {
   "cell_type": "code",
   "execution_count": 17,
   "id": "strong-diamond",
   "metadata": {},
   "outputs": [
    {
     "data": {
      "text/plain": [
       "array([ 0,  5,  7, 10, 20])"
      ]
     },
     "execution_count": 17,
     "metadata": {},
     "output_type": "execute_result"
    }
   ],
   "source": [
    "np.sort( portfolio.difficulty.unique() )"
   ]
  },
  {
   "cell_type": "code",
   "execution_count": 18,
   "id": "overhead-conditioning",
   "metadata": {},
   "outputs": [
    {
     "data": {
      "text/plain": [
       "array([ 3,  4,  5,  7, 10])"
      ]
     },
     "execution_count": 18,
     "metadata": {},
     "output_type": "execute_result"
    }
   ],
   "source": [
    "np.sort( portfolio.duration.unique() )"
   ]
  },
  {
   "cell_type": "code",
   "execution_count": 19,
   "id": "referenced-anthropology",
   "metadata": {},
   "outputs": [
    {
     "data": {
      "image/png": "[encoded data removed]",
      "text/plain": [
       "<Figure size 432x288 with 1 Axes>"
      ]
     },
     "metadata": {
      "needs_background": "light"
     },
     "output_type": "display_data"
    }
   ],
   "source": [
    "portfolio['offer_type'].value_counts().plot(kind = 'bar', title = 'Offer counts', y = 'Counts');"
   ]
  },
  {
   "cell_type": "code",
   "execution_count": null,
   "id": "loved-going",
   "metadata": {},
   "outputs": [],
   "source": []
  },
  {
   "cell_type": "code",
   "execution_count": 20,
   "id": "dental-indianapolis",
   "metadata": {},
   "outputs": [
    {
     "data": {
      "text/html": [
       "<div>\n",
       "<style scoped>\n",
       "    .dataframe tbody tr th:only-of-type {\n",
       "        vertical-align: middle;\n",
       "    }\n",
       "\n",
       "    .dataframe tbody tr th {\n",
       "        vertical-align: top;\n",
       "    }\n",
       "\n",
       "    .dataframe thead th {\n",
       "        text-align: right;\n",
       "    }\n",
       "</style>\n",
       "<table border=\"1\" class=\"dataframe\">\n",
       "  <thead>\n",
       "    <tr style=\"text-align: right;\">\n",
       "      <th></th>\n",
       "      <th>gender</th>\n",
       "      <th>age</th>\n",
       "      <th>id</th>\n",
       "      <th>became_member_on</th>\n",
       "      <th>income</th>\n",
       "    </tr>\n",
       "  </thead>\n",
       "  <tbody>\n",
       "    <tr>\n",
       "      <th>0</th>\n",
       "      <td>None</td>\n",
       "      <td>118</td>\n",
       "      <td>68be06ca386d4c31939f3a4f0e3dd783</td>\n",
       "      <td>20170212</td>\n",
       "      <td>NaN</td>\n",
       "    </tr>\n",
       "    <tr>\n",
       "      <th>1</th>\n",
       "      <td>F</td>\n",
       "      <td>55</td>\n",
       "      <td>0610b486422d4921ae7d2bf64640c50b</td>\n",
       "      <td>20170715</td>\n",
       "      <td>112000.0</td>\n",
       "    </tr>\n",
       "    <tr>\n",
       "      <th>2</th>\n",
       "      <td>None</td>\n",
       "      <td>118</td>\n",
       "      <td>38fe809add3b4fcf9315a9694bb96ff5</td>\n",
       "      <td>20180712</td>\n",
       "      <td>NaN</td>\n",
       "    </tr>\n",
       "    <tr>\n",
       "      <th>3</th>\n",
       "      <td>F</td>\n",
       "      <td>75</td>\n",
       "      <td>78afa995795e4d85b5d9ceeca43f5fef</td>\n",
       "      <td>20170509</td>\n",
       "      <td>100000.0</td>\n",
       "    </tr>\n",
       "    <tr>\n",
       "      <th>4</th>\n",
       "      <td>None</td>\n",
       "      <td>118</td>\n",
       "      <td>a03223e636434f42ac4c3df47e8bac43</td>\n",
       "      <td>20170804</td>\n",
       "      <td>NaN</td>\n",
       "    </tr>\n",
       "    <tr>\n",
       "      <th>...</th>\n",
       "      <td>...</td>\n",
       "      <td>...</td>\n",
       "      <td>...</td>\n",
       "      <td>...</td>\n",
       "      <td>...</td>\n",
       "    </tr>\n",
       "    <tr>\n",
       "      <th>16995</th>\n",
       "      <td>F</td>\n",
       "      <td>45</td>\n",
       "      <td>6d5f3a774f3d4714ab0c092238f3a1d7</td>\n",
       "      <td>20180604</td>\n",
       "      <td>54000.0</td>\n",
       "    </tr>\n",
       "    <tr>\n",
       "      <th>16996</th>\n",
       "      <td>M</td>\n",
       "      <td>61</td>\n",
       "      <td>2cb4f97358b841b9a9773a7aa05a9d77</td>\n",
       "      <td>20180713</td>\n",
       "      <td>72000.0</td>\n",
       "    </tr>\n",
       "    <tr>\n",
       "      <th>16997</th>\n",
       "      <td>M</td>\n",
       "      <td>49</td>\n",
       "      <td>01d26f638c274aa0b965d24cefe3183f</td>\n",
       "      <td>20170126</td>\n",
       "      <td>73000.0</td>\n",
       "    </tr>\n",
       "    <tr>\n",
       "      <th>16998</th>\n",
       "      <td>F</td>\n",
       "      <td>83</td>\n",
       "      <td>9dc1421481194dcd9400aec7c9ae6366</td>\n",
       "      <td>20160307</td>\n",
       "      <td>50000.0</td>\n",
       "    </tr>\n",
       "    <tr>\n",
       "      <th>16999</th>\n",
       "      <td>F</td>\n",
       "      <td>62</td>\n",
       "      <td>e4052622e5ba45a8b96b59aba68cf068</td>\n",
       "      <td>20170722</td>\n",
       "      <td>82000.0</td>\n",
       "    </tr>\n",
       "  </tbody>\n",
       "</table>\n",
       "<p>17000 rows × 5 columns</p>\n",
       "</div>"
      ],
      "text/plain": [
       "      gender  age                                id  became_member_on  \\\n",
       "0       None  118  68be06ca386d4c31939f3a4f0e3dd783          20170212   \n",
       "1          F   55  0610b486422d4921ae7d2bf64640c50b          20170715   \n",
       "2       None  118  38fe809add3b4fcf9315a9694bb96ff5          20180712   \n",
       "3          F   75  78afa995795e4d85b5d9ceeca43f5fef          20170509   \n",
       "4       None  118  a03223e636434f42ac4c3df47e8bac43          20170804   \n",
       "...      ...  ...                               ...               ...   \n",
       "16995      F   45  6d5f3a774f3d4714ab0c092238f3a1d7          20180604   \n",
       "16996      M   61  2cb4f97358b841b9a9773a7aa05a9d77          20180713   \n",
       "16997      M   49  01d26f638c274aa0b965d24cefe3183f          20170126   \n",
       "16998      F   83  9dc1421481194dcd9400aec7c9ae6366          20160307   \n",
       "16999      F   62  e4052622e5ba45a8b96b59aba68cf068          20170722   \n",
       "\n",
       "         income  \n",
       "0           NaN  \n",
       "1      112000.0  \n",
       "2           NaN  \n",
       "3      100000.0  \n",
       "4           NaN  \n",
       "...         ...  \n",
       "16995   54000.0  \n",
       "16996   72000.0  \n",
       "16997   73000.0  \n",
       "16998   50000.0  \n",
       "16999   82000.0  \n",
       "\n",
       "[17000 rows x 5 columns]"
      ]
     },
     "execution_count": 20,
     "metadata": {},
     "output_type": "execute_result"
    }
   ],
   "source": [
    "profile"
   ]
  },
  {
   "cell_type": "markdown",
   "id": "incident-airport",
   "metadata": {},
   "source": [
    "En género:\n",
    "- ¿Qué es None y qué es 0?"
   ]
  },
  {
   "cell_type": "code",
   "execution_count": 24,
   "id": "determined-memorabilia",
   "metadata": {},
   "outputs": [
    {
     "data": {
      "text/plain": [
       "array([None, 'F', 'M', 'O'], dtype=object)"
      ]
     },
     "execution_count": 24,
     "metadata": {},
     "output_type": "execute_result"
    }
   ],
   "source": [
    "profile.gender.unique()"
   ]
  },
  {
   "cell_type": "code",
   "execution_count": 25,
   "id": "intense-verse",
   "metadata": {},
   "outputs": [
    {
     "data": {
      "image/png": "[encoded data removed]",
      "text/plain": [
       "<Figure size 432x288 with 1 Axes>"
      ]
     },
     "metadata": {
      "needs_background": "light"
     },
     "output_type": "display_data"
    }
   ],
   "source": [
    "profile['gender'].value_counts().plot(kind = 'bar', title = 'Gender counts', y = 'Counts');"
   ]
  },
  {
   "cell_type": "markdown",
   "id": "parallel-restaurant",
   "metadata": {},
   "source": [
    "En age:\n",
    "* tenemos valores muy extremos en la edad\n",
    "* son mayores de edad\n",
    "* para limpiar la edad podría crear grupos de edad"
   ]
  },
  {
   "cell_type": "code",
   "execution_count": 26,
   "id": "indirect-differential",
   "metadata": {},
   "outputs": [
    {
     "data": {
      "text/plain": [
       "array([ 18,  19,  20,  21,  22,  23,  24,  25,  26,  27,  28,  29,  30,\n",
       "        31,  32,  33,  34,  35,  36,  37,  38,  39,  40,  41,  42,  43,\n",
       "        44,  45,  46,  47,  48,  49,  50,  51,  52,  53,  54,  55,  56,\n",
       "        57,  58,  59,  60,  61,  62,  63,  64,  65,  66,  67,  68,  69,\n",
       "        70,  71,  72,  73,  74,  75,  76,  77,  78,  79,  80,  81,  82,\n",
       "        83,  84,  85,  86,  87,  88,  89,  90,  91,  92,  93,  94,  95,\n",
       "        96,  97,  98,  99, 100, 101, 118])"
      ]
     },
     "execution_count": 26,
     "metadata": {},
     "output_type": "execute_result"
    }
   ],
   "source": [
    "np.sort( profile.age.unique() )"
   ]
  },
  {
   "cell_type": "code",
   "execution_count": 27,
   "id": "alpine-memorabilia",
   "metadata": {},
   "outputs": [
    {
     "data": {
      "image/png": "[encoded data removed]",
      "text/plain": [
       "<Figure size 432x288 with 1 Axes>"
      ]
     },
     "metadata": {
      "needs_background": "light"
     },
     "output_type": "display_data"
    }
   ],
   "source": [
    "profile['age'].plot(kind = 'hist', bins=10, grid = False, title = \"Age distribution\");\n"
   ]
  },
  {
   "cell_type": "markdown",
   "id": "excited-revision",
   "metadata": {},
   "source": [
    "Became member on:\n",
    "* La fecha hay que formatearla y parsearla como fecha. YYYYMMDD\n"
   ]
  },
  {
   "cell_type": "code",
   "execution_count": 28,
   "id": "external-bobby",
   "metadata": {},
   "outputs": [
    {
     "data": {
      "image/png": "[encoded data removed]",
      "text/plain": [
       "<Figure size 432x288 with 1 Axes>"
      ]
     },
     "metadata": {
      "needs_background": "light"
     },
     "output_type": "display_data"
    }
   ],
   "source": [
    "member_year = profile['became_member_on'].astype('str').str.slice( start = 0, stop= 4)\n",
    "member_month = profile['became_member_on'].astype('str').str.slice( start = 4, stop= 6)\n",
    "member_day = profile['became_member_on'].astype('str').str.slice( start = 6, stop= 8)\n",
    "profile['clean_became_member_on'] = pd.to_datetime( member_year + \"-\" + member_month + \"-\" + member_day )\n",
    "\n",
    "member_year.value_counts().sort_values().plot(kind = 'bar', title = \"New members by year\");"
   ]
  },
  {
   "cell_type": "markdown",
   "id": "secret-ordinary",
   "metadata": {},
   "source": [
    "Income:\n",
    "* Tiene valores nulos\n",
    "* Supongo que el ingreso está estimado en USD"
   ]
  },
  {
   "cell_type": "code",
   "execution_count": 29,
   "id": "complimentary-console",
   "metadata": {},
   "outputs": [
    {
     "data": {
      "text/plain": [
       "False    14825\n",
       "True      2175\n",
       "Name: income, dtype: int64"
      ]
     },
     "execution_count": 29,
     "metadata": {},
     "output_type": "execute_result"
    },
    {
     "data": {
      "image/png": "[encoded data removed]",
      "text/plain": [
       "<Figure size 432x288 with 1 Axes>"
      ]
     },
     "metadata": {
      "needs_background": "light"
     },
     "output_type": "display_data"
    }
   ],
   "source": [
    "profile['income'].plot(kind = 'hist', bins=15, grid = False, title = \"Income distribution\");\n",
    "\n",
    "profile.income.describe()\n",
    "\n",
    "profile.income.isna().value_counts()"
   ]
  },
  {
   "cell_type": "markdown",
   "id": "linear-reverse",
   "metadata": {},
   "source": [
    "## Transcript"
   ]
  },
  {
   "cell_type": "markdown",
   "id": "impossible-vermont",
   "metadata": {},
   "source": [
    "* Join transcript and profile with person and id respectively.\n",
    "* Join transcript with portfolio with value offer id and id, respectively.\n",
    "* The column value stores in a dictionary offer_id and amount."
   ]
  },
  {
   "cell_type": "markdown",
   "id": "medical-sending",
   "metadata": {},
   "source": [
    "Events:\n",
    "* Transactions\n",
    "* Offer received\n",
    "* Offer viewed\n",
    "* Offer completed"
   ]
  },
  {
   "cell_type": "code",
   "execution_count": null,
   "id": "light-crawford",
   "metadata": {},
   "outputs": [],
   "source": [
    "transcript.event.value_counts().plot( kind = 'bar', title = \"Distribution of events\");"
   ]
  },
  {
   "cell_type": "markdown",
   "id": "sound-transportation",
   "metadata": {},
   "source": [
    "Time"
   ]
  },
  {
   "cell_type": "code",
   "execution_count": 31,
   "id": "twenty-conversion",
   "metadata": {},
   "outputs": [
    {
     "name": "stdout",
     "output_type": "stream",
     "text": [
      "Max days since beginning of test: 29.166666666666668\n"
     ]
    }
   ],
   "source": [
    "print( \"Max days since beginning of test: {}\".format(700 / 24) )"
   ]
  },
  {
   "cell_type": "markdown",
   "id": "illegal-magic",
   "metadata": {},
   "source": [
    "Value:\n",
    "    \n",
    "* Cuando event es transacción viene el amount de la transacción la oferta.\n",
    "* Pero la offer completed puede tener offer completed no tiene amount."
   ]
  },
  {
   "cell_type": "code",
   "execution_count": 32,
   "id": "constant-modeling",
   "metadata": {},
   "outputs": [
    {
     "data": {
      "text/html": [
       "<div>\n",
       "<style scoped>\n",
       "    .dataframe tbody tr th:only-of-type {\n",
       "        vertical-align: middle;\n",
       "    }\n",
       "\n",
       "    .dataframe tbody tr th {\n",
       "        vertical-align: top;\n",
       "    }\n",
       "\n",
       "    .dataframe thead th {\n",
       "        text-align: right;\n",
       "    }\n",
       "</style>\n",
       "<table border=\"1\" class=\"dataframe\">\n",
       "  <thead>\n",
       "    <tr style=\"text-align: right;\">\n",
       "      <th></th>\n",
       "      <th>person</th>\n",
       "      <th>event</th>\n",
       "      <th>value</th>\n",
       "      <th>time</th>\n",
       "    </tr>\n",
       "  </thead>\n",
       "  <tbody>\n",
       "    <tr>\n",
       "      <th>104301</th>\n",
       "      <td>6d8add6a25974650b5f03c781d172314</td>\n",
       "      <td>transaction</td>\n",
       "      <td>{'amount': 2.65}</td>\n",
       "      <td>294</td>\n",
       "    </tr>\n",
       "    <tr>\n",
       "      <th>182517</th>\n",
       "      <td>26df95a49cbd48f3b18bfbb31d240c7c</td>\n",
       "      <td>offer viewed</td>\n",
       "      <td>{'offer id': 'fafdcd668e3743c1bb461111dcafc2a4'}</td>\n",
       "      <td>438</td>\n",
       "    </tr>\n",
       "    <tr>\n",
       "      <th>194428</th>\n",
       "      <td>a197ac9c98934b61a842d04b959c0ac2</td>\n",
       "      <td>transaction</td>\n",
       "      <td>{'amount': 9.74}</td>\n",
       "      <td>474</td>\n",
       "    </tr>\n",
       "    <tr>\n",
       "      <th>18093</th>\n",
       "      <td>9df2790f060d430e94f17189042e5671</td>\n",
       "      <td>offer viewed</td>\n",
       "      <td>{'offer id': 'f19421c1d4aa40978ebb69ca19b0e20d'}</td>\n",
       "      <td>12</td>\n",
       "    </tr>\n",
       "    <tr>\n",
       "      <th>116085</th>\n",
       "      <td>a37cfa5f821440deb5e5771a3bb2a0d7</td>\n",
       "      <td>offer received</td>\n",
       "      <td>{'offer id': '9b98b8c7a33c4b65b9aebfe6a799e6d9'}</td>\n",
       "      <td>336</td>\n",
       "    </tr>\n",
       "    <tr>\n",
       "      <th>166164</th>\n",
       "      <td>a3f32a88c02848d9973a701888877ef8</td>\n",
       "      <td>transaction</td>\n",
       "      <td>{'amount': 8.8}</td>\n",
       "      <td>408</td>\n",
       "    </tr>\n",
       "    <tr>\n",
       "      <th>11454</th>\n",
       "      <td>0a9b887bdf2d41b592ba69549760f191</td>\n",
       "      <td>offer received</td>\n",
       "      <td>{'offer id': 'fafdcd668e3743c1bb461111dcafc2a4'}</td>\n",
       "      <td>0</td>\n",
       "    </tr>\n",
       "    <tr>\n",
       "      <th>276719</th>\n",
       "      <td>e44d3bde10b147568f9c11fb0414abf5</td>\n",
       "      <td>offer completed</td>\n",
       "      <td>{'offer_id': 'ae264e3637204a6fb9bb56bc8210ddfd...</td>\n",
       "      <td>606</td>\n",
       "    </tr>\n",
       "    <tr>\n",
       "      <th>85559</th>\n",
       "      <td>f97c5306c38740bd991165598eafa630</td>\n",
       "      <td>transaction</td>\n",
       "      <td>{'amount': 3.15}</td>\n",
       "      <td>216</td>\n",
       "    </tr>\n",
       "    <tr>\n",
       "      <th>259547</th>\n",
       "      <td>041967ceb80841ddbd306958d4f744ac</td>\n",
       "      <td>offer completed</td>\n",
       "      <td>{'offer_id': '0b1e1539f2cc45b7b9fa7c272da2e1d7...</td>\n",
       "      <td>576</td>\n",
       "    </tr>\n",
       "    <tr>\n",
       "      <th>225809</th>\n",
       "      <td>d015bf9545c1465d8328a18c8a825226</td>\n",
       "      <td>offer viewed</td>\n",
       "      <td>{'offer id': '5a8bc65990b245e5a138643cd4eb9837'}</td>\n",
       "      <td>522</td>\n",
       "    </tr>\n",
       "    <tr>\n",
       "      <th>37615</th>\n",
       "      <td>daabbe6246ef4472a2a579a3b246b43c</td>\n",
       "      <td>offer viewed</td>\n",
       "      <td>{'offer id': 'ae264e3637204a6fb9bb56bc8210ddfd'}</td>\n",
       "      <td>78</td>\n",
       "    </tr>\n",
       "    <tr>\n",
       "      <th>187745</th>\n",
       "      <td>9da8d70d1ce44f678219834a1b14b427</td>\n",
       "      <td>transaction</td>\n",
       "      <td>{'amount': 28.5}</td>\n",
       "      <td>456</td>\n",
       "    </tr>\n",
       "    <tr>\n",
       "      <th>238734</th>\n",
       "      <td>4697d3c0b15148428fb25f3587650739</td>\n",
       "      <td>transaction</td>\n",
       "      <td>{'amount': 3.13}</td>\n",
       "      <td>552</td>\n",
       "    </tr>\n",
       "    <tr>\n",
       "      <th>39377</th>\n",
       "      <td>672ea74b67fc44dc8ffa6ebe935c5c64</td>\n",
       "      <td>offer completed</td>\n",
       "      <td>{'offer_id': '2906b810c7d4411798c6938adc9daaa5...</td>\n",
       "      <td>84</td>\n",
       "    </tr>\n",
       "    <tr>\n",
       "      <th>72658</th>\n",
       "      <td>cd56e78d6c2f4085bb8f53461ce80180</td>\n",
       "      <td>offer viewed</td>\n",
       "      <td>{'offer id': 'fafdcd668e3743c1bb461111dcafc2a4'}</td>\n",
       "      <td>180</td>\n",
       "    </tr>\n",
       "    <tr>\n",
       "      <th>27661</th>\n",
       "      <td>68e6132e0d4847f9920c0152dd5a3642</td>\n",
       "      <td>offer viewed</td>\n",
       "      <td>{'offer id': '2298d6c36e964ae4a3e7e9706d1fb8c2'}</td>\n",
       "      <td>36</td>\n",
       "    </tr>\n",
       "    <tr>\n",
       "      <th>174158</th>\n",
       "      <td>439607c704aa4e598883966c1dacc51e</td>\n",
       "      <td>offer viewed</td>\n",
       "      <td>{'offer id': '9b98b8c7a33c4b65b9aebfe6a799e6d9'}</td>\n",
       "      <td>420</td>\n",
       "    </tr>\n",
       "    <tr>\n",
       "      <th>174077</th>\n",
       "      <td>ff964fce42a74d519bd1ad2e0e20cd9e</td>\n",
       "      <td>transaction</td>\n",
       "      <td>{'amount': 4.22}</td>\n",
       "      <td>420</td>\n",
       "    </tr>\n",
       "    <tr>\n",
       "      <th>6588</th>\n",
       "      <td>7d7329e9dfa2463cb1ce7218e9ed3dd9</td>\n",
       "      <td>offer received</td>\n",
       "      <td>{'offer id': '0b1e1539f2cc45b7b9fa7c272da2e1d7'}</td>\n",
       "      <td>0</td>\n",
       "    </tr>\n",
       "  </tbody>\n",
       "</table>\n",
       "</div>"
      ],
      "text/plain": [
       "                                  person            event  \\\n",
       "104301  6d8add6a25974650b5f03c781d172314      transaction   \n",
       "182517  26df95a49cbd48f3b18bfbb31d240c7c     offer viewed   \n",
       "194428  a197ac9c98934b61a842d04b959c0ac2      transaction   \n",
       "18093   9df2790f060d430e94f17189042e5671     offer viewed   \n",
       "116085  a37cfa5f821440deb5e5771a3bb2a0d7   offer received   \n",
       "166164  a3f32a88c02848d9973a701888877ef8      transaction   \n",
       "11454   0a9b887bdf2d41b592ba69549760f191   offer received   \n",
       "276719  e44d3bde10b147568f9c11fb0414abf5  offer completed   \n",
       "85559   f97c5306c38740bd991165598eafa630      transaction   \n",
       "259547  041967ceb80841ddbd306958d4f744ac  offer completed   \n",
       "225809  d015bf9545c1465d8328a18c8a825226     offer viewed   \n",
       "37615   daabbe6246ef4472a2a579a3b246b43c     offer viewed   \n",
       "187745  9da8d70d1ce44f678219834a1b14b427      transaction   \n",
       "238734  4697d3c0b15148428fb25f3587650739      transaction   \n",
       "39377   672ea74b67fc44dc8ffa6ebe935c5c64  offer completed   \n",
       "72658   cd56e78d6c2f4085bb8f53461ce80180     offer viewed   \n",
       "27661   68e6132e0d4847f9920c0152dd5a3642     offer viewed   \n",
       "174158  439607c704aa4e598883966c1dacc51e     offer viewed   \n",
       "174077  ff964fce42a74d519bd1ad2e0e20cd9e      transaction   \n",
       "6588    7d7329e9dfa2463cb1ce7218e9ed3dd9   offer received   \n",
       "\n",
       "                                                    value  time  \n",
       "104301                                   {'amount': 2.65}   294  \n",
       "182517   {'offer id': 'fafdcd668e3743c1bb461111dcafc2a4'}   438  \n",
       "194428                                   {'amount': 9.74}   474  \n",
       "18093    {'offer id': 'f19421c1d4aa40978ebb69ca19b0e20d'}    12  \n",
       "116085   {'offer id': '9b98b8c7a33c4b65b9aebfe6a799e6d9'}   336  \n",
       "166164                                    {'amount': 8.8}   408  \n",
       "11454    {'offer id': 'fafdcd668e3743c1bb461111dcafc2a4'}     0  \n",
       "276719  {'offer_id': 'ae264e3637204a6fb9bb56bc8210ddfd...   606  \n",
       "85559                                    {'amount': 3.15}   216  \n",
       "259547  {'offer_id': '0b1e1539f2cc45b7b9fa7c272da2e1d7...   576  \n",
       "225809   {'offer id': '5a8bc65990b245e5a138643cd4eb9837'}   522  \n",
       "37615    {'offer id': 'ae264e3637204a6fb9bb56bc8210ddfd'}    78  \n",
       "187745                                   {'amount': 28.5}   456  \n",
       "238734                                   {'amount': 3.13}   552  \n",
       "39377   {'offer_id': '2906b810c7d4411798c6938adc9daaa5...    84  \n",
       "72658    {'offer id': 'fafdcd668e3743c1bb461111dcafc2a4'}   180  \n",
       "27661    {'offer id': '2298d6c36e964ae4a3e7e9706d1fb8c2'}    36  \n",
       "174158   {'offer id': '9b98b8c7a33c4b65b9aebfe6a799e6d9'}   420  \n",
       "174077                                   {'amount': 4.22}   420  \n",
       "6588     {'offer id': '0b1e1539f2cc45b7b9fa7c272da2e1d7'}     0  "
      ]
     },
     "execution_count": 32,
     "metadata": {},
     "output_type": "execute_result"
    }
   ],
   "source": [
    "transcript.sample(20)"
   ]
  },
  {
   "cell_type": "code",
   "execution_count": 33,
   "id": "sitting-edwards",
   "metadata": {},
   "outputs": [
    {
     "data": {
      "text/html": [
       "<div>\n",
       "<style scoped>\n",
       "    .dataframe tbody tr th:only-of-type {\n",
       "        vertical-align: middle;\n",
       "    }\n",
       "\n",
       "    .dataframe tbody tr th {\n",
       "        vertical-align: top;\n",
       "    }\n",
       "\n",
       "    .dataframe thead th {\n",
       "        text-align: right;\n",
       "    }\n",
       "</style>\n",
       "<table border=\"1\" class=\"dataframe\">\n",
       "  <thead>\n",
       "    <tr style=\"text-align: right;\">\n",
       "      <th></th>\n",
       "      <th>person</th>\n",
       "      <th>event</th>\n",
       "      <th>value</th>\n",
       "      <th>time</th>\n",
       "    </tr>\n",
       "  </thead>\n",
       "  <tbody>\n",
       "    <tr>\n",
       "      <th>6237</th>\n",
       "      <td>7f0f4f70ce834918828bd074dfa41e85</td>\n",
       "      <td>offer received</td>\n",
       "      <td>{'offer id': '9b98b8c7a33c4b65b9aebfe6a799e6d9'}</td>\n",
       "      <td>0</td>\n",
       "    </tr>\n",
       "    <tr>\n",
       "      <th>59446</th>\n",
       "      <td>7f0f4f70ce834918828bd074dfa41e85</td>\n",
       "      <td>offer received</td>\n",
       "      <td>{'offer id': '4d5c57ea9a6940dd891ad53e9dbe8da0'}</td>\n",
       "      <td>168</td>\n",
       "    </tr>\n",
       "    <tr>\n",
       "      <th>67608</th>\n",
       "      <td>7f0f4f70ce834918828bd074dfa41e85</td>\n",
       "      <td>offer viewed</td>\n",
       "      <td>{'offer id': '4d5c57ea9a6940dd891ad53e9dbe8da0'}</td>\n",
       "      <td>168</td>\n",
       "    </tr>\n",
       "    <tr>\n",
       "      <th>73514</th>\n",
       "      <td>7f0f4f70ce834918828bd074dfa41e85</td>\n",
       "      <td>transaction</td>\n",
       "      <td>{'amount': 4.26}</td>\n",
       "      <td>180</td>\n",
       "    </tr>\n",
       "    <tr>\n",
       "      <th>88016</th>\n",
       "      <td>7f0f4f70ce834918828bd074dfa41e85</td>\n",
       "      <td>transaction</td>\n",
       "      <td>{'amount': 0.7000000000000001}</td>\n",
       "      <td>222</td>\n",
       "    </tr>\n",
       "    <tr>\n",
       "      <th>89744</th>\n",
       "      <td>7f0f4f70ce834918828bd074dfa41e85</td>\n",
       "      <td>transaction</td>\n",
       "      <td>{'amount': 10.21}</td>\n",
       "      <td>228</td>\n",
       "    </tr>\n",
       "    <tr>\n",
       "      <th>89745</th>\n",
       "      <td>7f0f4f70ce834918828bd074dfa41e85</td>\n",
       "      <td>offer completed</td>\n",
       "      <td>{'offer_id': '4d5c57ea9a6940dd891ad53e9dbe8da0...</td>\n",
       "      <td>228</td>\n",
       "    </tr>\n",
       "    <tr>\n",
       "      <th>91354</th>\n",
       "      <td>7f0f4f70ce834918828bd074dfa41e85</td>\n",
       "      <td>transaction</td>\n",
       "      <td>{'amount': 12.09}</td>\n",
       "      <td>234</td>\n",
       "    </tr>\n",
       "    <tr>\n",
       "      <th>97040</th>\n",
       "      <td>7f0f4f70ce834918828bd074dfa41e85</td>\n",
       "      <td>transaction</td>\n",
       "      <td>{'amount': 1.01}</td>\n",
       "      <td>258</td>\n",
       "    </tr>\n",
       "    <tr>\n",
       "      <th>102037</th>\n",
       "      <td>7f0f4f70ce834918828bd074dfa41e85</td>\n",
       "      <td>transaction</td>\n",
       "      <td>{'amount': 4.72}</td>\n",
       "      <td>282</td>\n",
       "    </tr>\n",
       "    <tr>\n",
       "      <th>117108</th>\n",
       "      <td>7f0f4f70ce834918828bd074dfa41e85</td>\n",
       "      <td>offer received</td>\n",
       "      <td>{'offer id': '9b98b8c7a33c4b65b9aebfe6a799e6d9'}</td>\n",
       "      <td>336</td>\n",
       "    </tr>\n",
       "    <tr>\n",
       "      <th>197642</th>\n",
       "      <td>7f0f4f70ce834918828bd074dfa41e85</td>\n",
       "      <td>transaction</td>\n",
       "      <td>{'amount': 2.8}</td>\n",
       "      <td>486</td>\n",
       "    </tr>\n",
       "    <tr>\n",
       "      <th>207820</th>\n",
       "      <td>7f0f4f70ce834918828bd074dfa41e85</td>\n",
       "      <td>offer received</td>\n",
       "      <td>{'offer id': '9b98b8c7a33c4b65b9aebfe6a799e6d9'}</td>\n",
       "      <td>504</td>\n",
       "    </tr>\n",
       "    <tr>\n",
       "      <th>226473</th>\n",
       "      <td>7f0f4f70ce834918828bd074dfa41e85</td>\n",
       "      <td>transaction</td>\n",
       "      <td>{'amount': 1.79}</td>\n",
       "      <td>522</td>\n",
       "    </tr>\n",
       "    <tr>\n",
       "      <th>231653</th>\n",
       "      <td>7f0f4f70ce834918828bd074dfa41e85</td>\n",
       "      <td>transaction</td>\n",
       "      <td>{'amount': 0.32}</td>\n",
       "      <td>534</td>\n",
       "    </tr>\n",
       "    <tr>\n",
       "      <th>302616</th>\n",
       "      <td>7f0f4f70ce834918828bd074dfa41e85</td>\n",
       "      <td>transaction</td>\n",
       "      <td>{'amount': 2.32}</td>\n",
       "      <td>696</td>\n",
       "    </tr>\n",
       "  </tbody>\n",
       "</table>\n",
       "</div>"
      ],
      "text/plain": [
       "                                  person            event  \\\n",
       "6237    7f0f4f70ce834918828bd074dfa41e85   offer received   \n",
       "59446   7f0f4f70ce834918828bd074dfa41e85   offer received   \n",
       "67608   7f0f4f70ce834918828bd074dfa41e85     offer viewed   \n",
       "73514   7f0f4f70ce834918828bd074dfa41e85      transaction   \n",
       "88016   7f0f4f70ce834918828bd074dfa41e85      transaction   \n",
       "89744   7f0f4f70ce834918828bd074dfa41e85      transaction   \n",
       "89745   7f0f4f70ce834918828bd074dfa41e85  offer completed   \n",
       "91354   7f0f4f70ce834918828bd074dfa41e85      transaction   \n",
       "97040   7f0f4f70ce834918828bd074dfa41e85      transaction   \n",
       "102037  7f0f4f70ce834918828bd074dfa41e85      transaction   \n",
       "117108  7f0f4f70ce834918828bd074dfa41e85   offer received   \n",
       "197642  7f0f4f70ce834918828bd074dfa41e85      transaction   \n",
       "207820  7f0f4f70ce834918828bd074dfa41e85   offer received   \n",
       "226473  7f0f4f70ce834918828bd074dfa41e85      transaction   \n",
       "231653  7f0f4f70ce834918828bd074dfa41e85      transaction   \n",
       "302616  7f0f4f70ce834918828bd074dfa41e85      transaction   \n",
       "\n",
       "                                                    value  time  \n",
       "6237     {'offer id': '9b98b8c7a33c4b65b9aebfe6a799e6d9'}     0  \n",
       "59446    {'offer id': '4d5c57ea9a6940dd891ad53e9dbe8da0'}   168  \n",
       "67608    {'offer id': '4d5c57ea9a6940dd891ad53e9dbe8da0'}   168  \n",
       "73514                                    {'amount': 4.26}   180  \n",
       "88016                      {'amount': 0.7000000000000001}   222  \n",
       "89744                                   {'amount': 10.21}   228  \n",
       "89745   {'offer_id': '4d5c57ea9a6940dd891ad53e9dbe8da0...   228  \n",
       "91354                                   {'amount': 12.09}   234  \n",
       "97040                                    {'amount': 1.01}   258  \n",
       "102037                                   {'amount': 4.72}   282  \n",
       "117108   {'offer id': '9b98b8c7a33c4b65b9aebfe6a799e6d9'}   336  \n",
       "197642                                    {'amount': 2.8}   486  \n",
       "207820   {'offer id': '9b98b8c7a33c4b65b9aebfe6a799e6d9'}   504  \n",
       "226473                                   {'amount': 1.79}   522  \n",
       "231653                                   {'amount': 0.32}   534  \n",
       "302616                                   {'amount': 2.32}   696  "
      ]
     },
     "execution_count": 33,
     "metadata": {},
     "output_type": "execute_result"
    }
   ],
   "source": [
    "transcript[ transcript.person == '7f0f4f70ce834918828bd074dfa41e85' ]"
   ]
  },
  {
   "cell_type": "code",
   "execution_count": 34,
   "id": "postal-plasma",
   "metadata": {},
   "outputs": [
    {
     "data": {
      "image/png": "[encoded data removed]",
      "text/plain": [
       "<Figure size 432x288 with 1 Axes>"
      ]
     },
     "metadata": {
      "needs_background": "light"
     },
     "output_type": "display_data"
    }
   ],
   "source": [
    "transcript.time.plot(kind = 'hist', bins = 20, title = \"Distribution of time since beginning of the test\");"
   ]
  },
  {
   "cell_type": "code",
   "execution_count": null,
   "id": "frank-digit",
   "metadata": {},
   "outputs": [],
   "source": []
  },
  {
   "cell_type": "code",
   "execution_count": null,
   "id": "floral-disposal",
   "metadata": {},
   "outputs": [],
   "source": []
  }
 ],
 "metadata": {
  "kernelspec": {
   "display_name": "conda_amazonei_mxnet_p36",
   "language": "python",
   "name": "conda_amazonei_mxnet_p36"
  },
  "language_info": {
   "codemirror_mode": {
    "name": "ipython",
    "version": 3
   },
   "file_extension": ".py",
   "mimetype": "text/x-python",
   "name": "python",
   "nbconvert_exporter": "python",
   "pygments_lexer": "ipython3",
   "version": "3.6.10"
  }
 },
 "nbformat": 4,
 "nbformat_minor": 5
}
